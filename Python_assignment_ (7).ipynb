{
  "nbformat": 4,
  "nbformat_minor": 0,
  "metadata": {
    "colab": {
      "provenance": []
    },
    "kernelspec": {
      "name": "python3",
      "display_name": "Python 3"
    },
    "language_info": {
      "name": "python"
    }
  },
  "cells": [
    {
      "cell_type": "markdown",
      "source": [],
      "metadata": {
        "id": "xRXwJPP6RODa"
      }
    },
    {
      "cell_type": "markdown",
      "source": [
        "Python Basics Questions"
      ],
      "metadata": {
        "id": "DqI_DK5VZzI9"
      }
    },
    {
      "cell_type": "markdown",
      "source": [
        "Que. What is python,and why is it popular.\n",
        "\n",
        "Ans.Python is a set of instructions that we give in the form of a Program to our computer to perform any specific task. It is a Programming language having properties like it is interpreted, object-oriented and it is high-level too. Due to its beginner-friendly syntax, it became a clear choice for beginners to start their programming journey.\n",
        "\n",
        " Python has become one of the most popular programming languages due to sever\n",
        "key factors that make it versatile and widely adopted across various domains.\n",
        "         \n",
        "\n",
        "1.   simplicity and readibility\n",
        "2.   versatility and general purpose nature\n",
        "3.   A lot of liabraries\n",
        "4.   Application in Emerging Technologies\n",
        "5.   simple syntax\n",
        "6.   Flexibility\n",
        "7.   Web development\n",
        "\n",
        "\n",
        "In conclusion, Python's popularity is a testament to its adaptability, community support, and continuous evolution.\n",
        "\n"
      ],
      "metadata": {
        "id": "GaU3jCdeTiym"
      }
    },
    {
      "cell_type": "markdown",
      "source": [],
      "metadata": {
        "id": "Dh_bgEQPZpz5"
      }
    },
    {
      "cell_type": "code",
      "execution_count": null,
      "metadata": {
        "id": "-a3CLW4sRCQV"
      },
      "outputs": [],
      "source": []
    },
    {
      "cell_type": "markdown",
      "source": [
        "Que.2 What is an interpreter in Python.\n",
        "\n",
        "Ans.   A Python interpreter is a program that reads and executes Python code. Python is an interpreted language, meaning that it executes code line by line, rather than compiling the entire program into machine code before execution.\n",
        "   In simple word, The Python interpreter is a program that reads and executes the code you write.\n",
        "\n",
        "\n"
      ],
      "metadata": {
        "id": "46fd49xTZ1so"
      }
    },
    {
      "cell_type": "markdown",
      "source": [
        "Que.3 What are pre-defined keywords in Python.\n",
        "\n",
        "Ans.  Every language contains words and a set of rules that would make a sentence meaningful. Similarly, in Python programming language, there are a set of predefined words, called Keywords.\n",
        "  Keywords are predefined, reserved words used in Python programming that have special meanings to the compiler.We cannot use keywords as variable names as they are reserved names that are built-in to Python."
      ],
      "metadata": {
        "id": "QGv86nEqgFLO"
      }
    },
    {
      "cell_type": "markdown",
      "source": [
        "Que.4 Can keywords be used as variable names?\n",
        "\n",
        "Ans. Python keywords cannot be used as the names of variables, functions, and classes.\n",
        "Python Keywords are some predefined and reserved words in Python that have special meanings. Keywords are used to define the syntax of the coding. The keyword cannot be used as an identifier, function, or variable name. All the keywords in Python are written in lowercase except True and False. There are 35 keywords in Python.\n",
        "\n"
      ],
      "metadata": {
        "id": "6Antt5OYiol0"
      }
    },
    {
      "cell_type": "markdown",
      "source": [],
      "metadata": {
        "id": "9GRBHWDvV8da"
      }
    },
    {
      "cell_type": "markdown",
      "source": [
        "Que.5 What is mutability in Python.\n",
        "\n",
        "Ans.  In Python, mutability refers to the ability of an object to be changed after it is created. Objects in Python can be classified into two categories: mutable and immutable.\n",
        "\n",
        "Immutable Objects\n",
        "\n",
        "Immutable objects are those whose state cannot be changed once they are created. Examples of immutable objects include:\n",
        "         \n",
        "        *  Numbers (int, float, bool)\n",
        "\n",
        "        *  Strings\n",
        "\n",
        "        *  Tuples\n",
        "\n",
        "        *  Frozen sets\n",
        "\n",
        "Mutable Objects\n",
        "\n",
        "Mutable objects are those whose state can be changed after they are created. Examples of mutable objects include:\n",
        "\n",
        "                 * Lists\n",
        "\n",
        "                 * Dictionaries\n",
        "\n",
        "                 * Sets\n",
        "\n",
        "\n",
        "                  \n",
        "              \n",
        "\n",
        "\n"
      ],
      "metadata": {
        "id": "IRXFnx0gkFiT"
      }
    },
    {
      "cell_type": "markdown",
      "source": [
        "Que.6 Why are lists mutable, but tuples are immutable?\n",
        "\n",
        "Ans.  Yes, Python lists are mutable. This means that you can change their content without changing their identity. You can add, remove, or modify items in a list after it has been created\n",
        "  This mutability feature allows for the addition, removal, or modification of elements within a list without the need to create a new list\n",
        ". This ability to change lists in-place makes them highly flexible and suitable for a wide range of applications, from simple data storage to complex data structures like stacks, queues, and more\n",
        ". The mutability of lists is a key feature that distinguishes them from tuples, another Python data structure, which are immutable and cannot be changed once created.\n",
        "\n",
        "Tuples are immutable,\n",
        "             Tuples are a data type that belongs to the sequence data type category. They're similar to lists in     Python, but they have the property of being immutable. We can't change the elements of a tuple, but we can execute a variety of actions on them such as count, index, type, etc.\n",
        "Few important reason for tuple being immutable,\n",
        "    * Maintaining Order :  Tuples are mainly defined in python as\n",
        "    a way to show order. For example, when you retrieve data from a database in form of a list of tuples, all the tuples are in the order of the fields you fetched.\n",
        "\n",
        "* Copy efficiency : Rather than copying an immutable object, you can alias it (bind a variable to a reference).\n",
        "\n",
        "* Comparing efficiency : You can compare two variables by comparing position rather than content when using copy-by-reference.\n",
        "\n",
        "* Interning : Any immutable value requires just one copy to be stored. In concurrent programs, there's no requirement to synchronize access to immutable objects.\n",
        "\n"
      ],
      "metadata": {
        "id": "0K5o1V3ExUq2"
      }
    },
    {
      "cell_type": "markdown",
      "source": [
        "Que.7  What is the difference between “==” and “is” operators in Python.\n",
        "\n",
        "Ans. what is\"==\"operator\n",
        "          To compare objects based on their values, Pythons equality operators (==) are employed. It calls the left object, class method, which specifies the criteria for determining equality. However, these constraints are typically written so that the equality operator == returns True if two objects, have the same value, and returns False if both have different value.\n",
        "  what is \"is\" operator\n",
        "             Python identity operators (is, is not) are used to compare objects based on their identity. When the variables on either side of an operator point at the exact same object, the “is” operators evaluation is true. Otherwise, it would provide us with a false assessment.\n",
        "\n",
        "\n",
        "\n"
      ],
      "metadata": {
        "id": "X7dYymFQ1Mei"
      }
    },
    {
      "cell_type": "markdown",
      "source": [],
      "metadata": {
        "id": "OFdbDTWI36bf"
      }
    },
    {
      "cell_type": "markdown",
      "source": [
        "Que.8  What are logical operators in Python?\n",
        "\n",
        "Ans Python logical operators are used to combine conditional statements, allowing you to perform operations based on multiple conditions. These Python operators, alongside arithmetic operators, are special symbols used to carry out coutation on values and variables.\n",
        "                        \n",
        "                \n",
        "Types of Logical Operators:\n",
        "\n",
        "* Python has three logical operators: and, or, and not.\n",
        "\n",
        "The and Operator\n",
        "\n",
        "The and operator returns True if both operands are True. If either operand is False, it returns False. This operator is useful when you need to check multiple conditions that must all be true.\n",
        "\n",
        "\n",
        "\n",
        "\n"
      ],
      "metadata": {
        "id": "XHofQk5XgcLe"
      }
    },
    {
      "cell_type": "markdown",
      "source": [
        "Que.9 What is type casting in Python?\n",
        "\n",
        "Ans.  Type Casting in Python,\n",
        "\n",
        "Type casting, also known as type conversion, is the process of converting a variable from one data type to another. In Python, this can be done either implicitly or explicitly.\n",
        "\n",
        "Implicit Type Conversion:\n",
        "\n",
        "In implicit type conversion, Python automatically converts one data type to another without any user intervention. This usually happens when performing operations involving mixed data types to prevent data lose.\n",
        "          \n",
        "explicit Type conversion:\n",
        "\n",
        "Explicit type conversion requires the user to manually convert the data type using predefined functions like int(), float(), and str().\n",
        "\n",
        "Example:"
      ],
      "metadata": {
        "id": "wHAdLlImjETP"
      }
    },
    {
      "cell_type": "markdown",
      "source": [
        "Que.10  What is the difference between implicit and explicit type casting?\n",
        "\n",
        "Ans. In programming, type casting is a way to convert data from one type to another. Implicit type casting happens automatically, while explicit type casting requires manual intervention. This article explores the differences between implicit and explicit type casting, their uses, benefits, and considerations in programming.\n",
        "\n",
        "There are two types of type casting: implicit and explicit.\n",
        "\n",
        "Implicit Type Casting (Coercion):\n",
        "Explicit Type Casting (Casting):\n",
        "\n",
        "Implicit Type Casting:\n",
        "In implicit type casting, the programming language automatically converts data from one type to another if needed. For example, if you have an integer variable and you try to assign it to a float variable, the programming language will automatically convert the integer to a float without you having to do anything.\n",
        "\n",
        "Explicit Type Casting:\n",
        "Explicit type casting, also known as type conversion or type coercion, occurs when the programmer explicitly converts a value from one data type to another. Unlike implicit type casting, explicit type casting requires the programmer to specify the desired data type conversion.\n",
        "\n",
        "    In conclusion, understanding implicit and explicit type casting is essential in programming. Implicit type casting happens automatically when converting data types, while explicit type casting requires a manual instruction from the programmer to convert a value from one type to another. Both methods have their uses and importance in coding. It's crucial for developers to grasp these concepts to ensure the accuracy and efficiency of their programs. By mastering implicit and explicit type casting, programmers can write more robust and error-free code, leading to better software development practices.\n",
        "\n",
        "\n"
      ],
      "metadata": {
        "id": "6iEVMh7754ZE"
      }
    },
    {
      "cell_type": "markdown",
      "source": [
        "Que.11 What is the purpose of conditional statements in Python?\n",
        "\n",
        "Ans. Conditional Statements are statements in Python that provide a choice for the control flow based on a condition. It means that the control flow of the Python program will be decided based on the outcome of the condition. Now let us see how Conditional Statements are implemented in Python.\n",
        "  \n",
        "  Types of condiional statement:\n",
        "\n",
        "  1. If Conditional Statement\n",
        "  2. If else Conditional Statements\n",
        "  3. Nested if..else Conditional statement\n",
        "  4. If-elif-else Conditional Statements.\n",
        "\n",
        "  purpose of conditional statement in python:\n",
        "\n",
        " * Keep conditions simple and expressive for better readability.\n",
        "\n",
        "* Avoid deeply nested conditional blocks; refactor complex logic into smaller, more manageable functions.\n",
        "Comment on complex conditions to clarify their purpose.\n",
        "\n",
        "* Prefer the ternary operator for simple conditional assignments.\n",
        "\n",
        "* Advanced Techniques\n",
        "\n",
        "* Using short-circuit evaluation for efficiency in complex conditions.\n",
        "Leveraging the any() and all() functions with conditions applied to iterables.\n",
        "\n",
        "* Employing conditional expressions within list comprehensions and generator expressions.\n",
        "\n"
      ],
      "metadata": {
        "id": "xgOb2kvv-BJg"
      }
    },
    {
      "cell_type": "markdown",
      "source": [
        "Que.12  How does the elif statement work?\n",
        "\n",
        "Ans. programming is all about making decisions. And in order to make informed choices, you need to be able to evaluate multiple conditions at once. That's where the elif statement comes in!\n",
        "     The elif statement is short for \"else if.\" It's used in Python to check multiple conditions in a specific order. If the first condition is not met, the elif statement moves on to the next condition, and so on, until a condition is met or the end of the statement is reached.\n",
        "\n"
      ],
      "metadata": {
        "id": "huBiJTZ91gbm"
      }
    },
    {
      "cell_type": "markdown",
      "source": [
        "Que.13 What is the difference between for and while loops?\n",
        "\n",
        "Ans. Both for loops and while loops are control flow structures in programming that allow you to repeatedly execute a block of code. However, they differ in their syntax and use cases.\n",
        "\n",
        "  For Loop in Programming:\n",
        "\n",
        "* The for loop is used when you know in advance how many times you want to execute the block of code.\n",
        "* It iterates over a sequence (e.g., a list, tuple, string, or range) and executes the block of code for each item in the sequence.\n",
        "* The loop variable (variable) takes the value of each item in the sequence during each iteration.\n",
        "\n",
        "While Loop in Programming:\n",
        "\n",
        "* The while loop is used when you don't know in advance how many times you want to execute the block of code. It continues to execute as long as the specified condition is true.\n",
        "* It's important to make sure that the condition eventually becomes false; otherwise, the loop will run indefinitely, resulting in an infinite loop.\n",
        "\n",
        "\n",
        "Que.14 Describe a scenario where a while loop is more suitable than a for loop?\n",
        "\n",
        "Ans. Both for loops and while loops are powerful constructs that allow us to repeat a block of code multiple times. The choice between the two depends on the specific requirements of the program and the level of control and flexibility needed. For loops are well-suited for situations where the number of iterations is known and a more structured approach is desired. On the other hand, while loops are ideal when the number of iterations is unknown or when the loop's termination depends on a specific condition. By understanding the attributes and differences of for loops and while loops, programmers can make informed decisions to write efficient and effective code.\n",
        "\n"
      ],
      "metadata": {
        "id": "pUTITYtp2y5w"
      }
    },
    {
      "cell_type": "markdown",
      "source": [],
      "metadata": {
        "id": "NEGzED-a28t2"
      }
    },
    {
      "cell_type": "markdown",
      "source": [],
      "metadata": {
        "id": "hUeyam9r3Frf"
      }
    },
    {
      "cell_type": "markdown",
      "source": [
        "Practical Questions:\n",
        "\n",
        "\n",
        "```\n",
        "\n"
      ],
      "metadata": {
        "id": "l-Y5QftzwC5R"
      }
    },
    {
      "cell_type": "markdown",
      "source": [
        "Que.1 Write a Python program to print \"Hello, World!_\n"
      ],
      "metadata": {
        "id": "ZQ0LoK2BIHls"
      }
    },
    {
      "cell_type": "code",
      "source": [
        "print(\"hello world\")"
      ],
      "metadata": {
        "colab": {
          "base_uri": "https://localhost:8080/"
        },
        "id": "mKwlFcdnIQMZ",
        "outputId": "95ef5ee1-90fe-4d5e-82d3-1d0878d90cdc"
      },
      "execution_count": null,
      "outputs": [
        {
          "output_type": "stream",
          "name": "stdout",
          "text": [
            "hello world\n"
          ]
        }
      ]
    },
    {
      "cell_type": "markdown",
      "source": [
        "Que.2 Write a Python program that displays your name and age"
      ],
      "metadata": {
        "id": "LYFy-_3QIXZa"
      }
    },
    {
      "cell_type": "code",
      "source": [
        "print(\"reena tripathi\")\n",
        "print(32)"
      ],
      "metadata": {
        "colab": {
          "base_uri": "https://localhost:8080/"
        },
        "id": "_jUb-o1T4gAc",
        "outputId": "c0b32dfa-612b-4664-97f2-91296bc715db"
      },
      "execution_count": null,
      "outputs": [
        {
          "output_type": "stream",
          "name": "stdout",
          "text": [
            "reena tripathi\n",
            "32\n"
          ]
        }
      ]
    },
    {
      "cell_type": "markdown",
      "source": [
        "Que.3  Write code to print all the pre-defined keywords in Python using the keyword library?\n",
        "\n",
        "\n"
      ],
      "metadata": {
        "id": "F89_kz4L40cN"
      }
    },
    {
      "cell_type": "code",
      "source": [
        "import keyword\n",
        "keyword.kwlist"
      ],
      "metadata": {
        "colab": {
          "base_uri": "https://localhost:8080/"
        },
        "id": "d95uL7B86GNC",
        "outputId": "700adaa4-66ee-4986-9d80-5d45f2e5f3ec"
      },
      "execution_count": null,
      "outputs": [
        {
          "output_type": "execute_result",
          "data": {
            "text/plain": [
              "['False',\n",
              " 'None',\n",
              " 'True',\n",
              " 'and',\n",
              " 'as',\n",
              " 'assert',\n",
              " 'async',\n",
              " 'await',\n",
              " 'break',\n",
              " 'class',\n",
              " 'continue',\n",
              " 'def',\n",
              " 'del',\n",
              " 'elif',\n",
              " 'else',\n",
              " 'except',\n",
              " 'finally',\n",
              " 'for',\n",
              " 'from',\n",
              " 'global',\n",
              " 'if',\n",
              " 'import',\n",
              " 'in',\n",
              " 'is',\n",
              " 'lambda',\n",
              " 'nonlocal',\n",
              " 'not',\n",
              " 'or',\n",
              " 'pass',\n",
              " 'raise',\n",
              " 'return',\n",
              " 'try',\n",
              " 'while',\n",
              " 'with',\n",
              " 'yield']"
            ]
          },
          "metadata": {},
          "execution_count": 2
        }
      ]
    },
    {
      "cell_type": "markdown",
      "source": [],
      "metadata": {
        "id": "r-dQ0HJje-YI"
      }
    },
    {
      "cell_type": "markdown",
      "source": [
        "Que.4  Write a program that checks if a given word is a Python keyword"
      ],
      "metadata": {
        "id": "E5bZvZ-SKLyZ"
      }
    },
    {
      "cell_type": "code",
      "source": [
        "import keyword\n",
        "keyword.iskeyword(\"while\")\n"
      ],
      "metadata": {
        "colab": {
          "base_uri": "https://localhost:8080/"
        },
        "id": "YW_SyXg5KZ_q",
        "outputId": "180996ce-c2a0-42a3-8c53-24df3361cefd"
      },
      "execution_count": null,
      "outputs": [
        {
          "output_type": "execute_result",
          "data": {
            "text/plain": [
              "True"
            ]
          },
          "metadata": {},
          "execution_count": 3
        }
      ]
    },
    {
      "cell_type": "code",
      "source": [],
      "metadata": {
        "id": "aUt7tQ5U10dl"
      },
      "execution_count": null,
      "outputs": []
    },
    {
      "cell_type": "markdown",
      "source": [
        "Que 5. Create a list and tuple in Python, and demonstrate how attempting to change an element works differently\n",
        "for each."
      ],
      "metadata": {
        "id": "96szSeDzMDXr"
      }
    },
    {
      "cell_type": "code",
      "source": [
        "list_num = [1,2,3,4]\n",
        "list_tup = (1,2,3,4)\n",
        "print(list_num)\n",
        "print(list_tup)"
      ],
      "metadata": {
        "colab": {
          "base_uri": "https://localhost:8080/"
        },
        "id": "3b0LjU8kMST-",
        "outputId": "a420d142-f1c5-4525-f7c4-a9210ed5ff63"
      },
      "execution_count": null,
      "outputs": [
        {
          "output_type": "stream",
          "name": "stdout",
          "text": [
            "[1, 2, 3, 4]\n",
            "(1, 2, 3, 4)\n"
          ]
        }
      ]
    },
    {
      "cell_type": "code",
      "source": [
        "a = [1,2,3,4,5]\n",
        "print(a)\n",
        "t=tuple(a)\n",
        "print(t)"
      ],
      "metadata": {
        "colab": {
          "base_uri": "https://localhost:8080/"
        },
        "id": "SRp5_gJj8N7X",
        "outputId": "e3ec1835-a8be-45b9-f93b-d1c3849457a8"
      },
      "execution_count": null,
      "outputs": [
        {
          "output_type": "stream",
          "name": "stdout",
          "text": [
            "[1, 2, 3, 4, 5]\n",
            "(1, 2, 3, 4, 5)\n"
          ]
        }
      ]
    },
    {
      "cell_type": "markdown",
      "source": [
        "Que.6 Write a function to demonstrate the behavior of mutable and immutable arguments"
      ],
      "metadata": {
        "id": "Gul70Fv2Qsc2"
      }
    },
    {
      "cell_type": "markdown",
      "source": [
        "Mutual agrements\n"
      ],
      "metadata": {
        "id": "L0saWM0s9g4w"
      }
    },
    {
      "cell_type": "code",
      "source": [
        "\n",
        "\n",
        "food=['eggs','bread','milk']\n",
        "food.append(\"chocolat\")\n",
        "food"
      ],
      "metadata": {
        "colab": {
          "base_uri": "https://localhost:8080/"
        },
        "id": "GYGXBsey_Jjf",
        "outputId": "a0a5978c-f9c8-4d9d-c146-8af3150f3ccc"
      },
      "execution_count": null,
      "outputs": [
        {
          "output_type": "execute_result",
          "data": {
            "text/plain": [
              "['eggs', 'bread', 'milk', 'chocolat']"
            ]
          },
          "metadata": {},
          "execution_count": 5
        }
      ]
    },
    {
      "cell_type": "markdown",
      "source": [
        "Que.8 Write a program to demonstrate the use of logical operators."
      ],
      "metadata": {
        "id": "Rm_7U2wnAMTp"
      }
    },
    {
      "cell_type": "code",
      "source": [
        "a=5\n",
        "b=6\n",
        "print((a>2)and(b>=6))"
      ],
      "metadata": {
        "colab": {
          "base_uri": "https://localhost:8080/"
        },
        "id": "OxtoQ3mgEbiH",
        "outputId": "0a4ceae5-6697-454a-d281-4c0b8fbf8033"
      },
      "execution_count": null,
      "outputs": [
        {
          "output_type": "stream",
          "name": "stdout",
          "text": [
            "True\n"
          ]
        }
      ]
    },
    {
      "cell_type": "code",
      "source": [
        "a=5\n",
        "b=6\n",
        "print((a>2)or(b>=6))"
      ],
      "metadata": {
        "colab": {
          "base_uri": "https://localhost:8080/"
        },
        "id": "VKJHdKnCF3SS",
        "outputId": "ef8c9177-433f-4447-8408-3256cfa892b3"
      },
      "execution_count": null,
      "outputs": [
        {
          "output_type": "stream",
          "name": "stdout",
          "text": [
            "True\n"
          ]
        }
      ]
    },
    {
      "cell_type": "code",
      "source": [
        "a=5\n",
        "b=6\n",
        "print(not(a<4))"
      ],
      "metadata": {
        "colab": {
          "base_uri": "https://localhost:8080/"
        },
        "id": "RNApVpg7GlLY",
        "outputId": "21f3505a-97f5-4ab9-a31c-c5da499d51b8"
      },
      "execution_count": null,
      "outputs": [
        {
          "output_type": "stream",
          "name": "stdout",
          "text": [
            "True\n"
          ]
        }
      ]
    },
    {
      "cell_type": "code",
      "source": [
        "a=5\n",
        "b=6\n",
        "print(not(a>4))"
      ],
      "metadata": {
        "colab": {
          "base_uri": "https://localhost:8080/"
        },
        "id": "nIz-vmEd9cdC",
        "outputId": "4e8f13c5-4c6c-4ab0-fd1b-df9edc531473"
      },
      "execution_count": null,
      "outputs": [
        {
          "output_type": "stream",
          "name": "stdout",
          "text": [
            "False\n"
          ]
        }
      ]
    },
    {
      "cell_type": "markdown",
      "source": [
        "Que.9 Write a Python program to convert user input from string to integer, float, and boolean types"
      ],
      "metadata": {
        "id": "W63G2uPXHkgX"
      }
    },
    {
      "cell_type": "code",
      "source": [
        "a=12.5\n",
        "b=int(a)\n",
        "print(b)\n",
        "print(type(b))"
      ],
      "metadata": {
        "id": "EU_dMInJcmrK",
        "colab": {
          "base_uri": "https://localhost:8080/"
        },
        "outputId": "ba805dc3-48d4-4983-b4c8-3a731f14a7cb"
      },
      "execution_count": null,
      "outputs": [
        {
          "output_type": "stream",
          "name": "stdout",
          "text": [
            "12\n",
            "<class 'int'>\n"
          ]
        }
      ]
    },
    {
      "cell_type": "code",
      "source": [
        "a=22\n",
        "b=str(a)\n",
        "print(b)\n",
        "print(type(b))"
      ],
      "metadata": {
        "colab": {
          "base_uri": "https://localhost:8080/"
        },
        "id": "OtYwk66TLhK4",
        "outputId": "f228d4c7-e877-493b-854e-a325389b0f02"
      },
      "execution_count": null,
      "outputs": [
        {
          "output_type": "stream",
          "name": "stdout",
          "text": [
            "22\n",
            "<class 'str'>\n"
          ]
        }
      ]
    },
    {
      "cell_type": "code",
      "source": [
        "b=True\n",
        "print(b)\n",
        "print(type(b))"
      ],
      "metadata": {
        "colab": {
          "base_uri": "https://localhost:8080/"
        },
        "id": "Sm9bjmQkPm8u",
        "outputId": "735b7a5f-b6b7-4783-cf21-fedd3ef18c17"
      },
      "execution_count": null,
      "outputs": [
        {
          "output_type": "stream",
          "name": "stdout",
          "text": [
            "True\n",
            "<class 'bool'>\n"
          ]
        }
      ]
    },
    {
      "cell_type": "markdown",
      "source": [
        "Que.10 Write code to demonstrate type casting with list elements.\n"
      ],
      "metadata": {
        "id": "u7HWlD-1QW7g"
      }
    },
    {
      "cell_type": "code",
      "source": [
        "value='42'\n",
        "integer=int(value)\n",
        "float_num=float(value)\n",
        "boolean=bool(value)\n",
        "print(\"type casting\")\n",
        "print(\"string to integer:\",integer)\n",
        "print(\"string to float:\",float_num)\n",
        "print(\"string to boolean:\",boolean)"
      ],
      "metadata": {
        "colab": {
          "base_uri": "https://localhost:8080/"
        },
        "id": "nrrIiLasR_SS",
        "outputId": "2e4239bf-3257-4662-cc63-08328c91fb8d"
      },
      "execution_count": null,
      "outputs": [
        {
          "output_type": "stream",
          "name": "stdout",
          "text": [
            "type casting\n",
            "string to integer: 42\n",
            "string to float: 42.0\n",
            "string to boolean: True\n"
          ]
        }
      ]
    },
    {
      "cell_type": "markdown",
      "source": [
        "Que.11  Write a program that checks if a number is positive, negative, or zero"
      ],
      "metadata": {
        "id": "UerDOVmrTsWW"
      }
    },
    {
      "cell_type": "code",
      "source": [
        "a=int(input(\"Enter Number:\"))\n",
        "if a<0:\n",
        "  print(\"number is Negative\")\n",
        "elif a>0:\n",
        "  print(\"number is Positive\")\n",
        "else:\n",
        "  print(\"number is Zero\")"
      ],
      "metadata": {
        "colab": {
          "base_uri": "https://localhost:8080/"
        },
        "id": "n2aOdKQFNC8U",
        "outputId": "12109e40-daef-466f-e6b2-80aaaeda4a52"
      },
      "execution_count": null,
      "outputs": [
        {
          "output_type": "stream",
          "name": "stdout",
          "text": [
            "Enter Number:3\n",
            "number is Positive\n"
          ]
        }
      ]
    },
    {
      "cell_type": "code",
      "source": [
        "a=int(input(\"enter number:\"))\n",
        "if a<0:\n",
        "  print(\"number is negative\")\n",
        "elif a>0:\n",
        "  print(\"number is positive\")\n",
        "else:\n",
        "  print(\"number is Zero\")\n",
        "\n"
      ],
      "metadata": {
        "colab": {
          "base_uri": "https://localhost:8080/"
        },
        "id": "OE8LKLrpPpN_",
        "outputId": "cdfc90d3-0c69-4af1-f011-33978a4b2b2e"
      },
      "execution_count": null,
      "outputs": [
        {
          "output_type": "stream",
          "name": "stdout",
          "text": [
            "enter number:-3\n",
            "number is negative\n"
          ]
        }
      ]
    },
    {
      "cell_type": "code",
      "source": [
        "a=int(input(\"enter number:\"))\n",
        "if a<0:\n",
        "  print(\"number is Negative\")\n",
        "elif a>0:\n",
        "    print(\"number is Positive\")\n",
        "else:\n",
        "    print(\"number is Zero\")"
      ],
      "metadata": {
        "colab": {
          "base_uri": "https://localhost:8080/"
        },
        "id": "sMxLz_vFRBIv",
        "outputId": "7418d809-bc8c-4f18-82e5-b9e086f3bd40"
      },
      "execution_count": null,
      "outputs": [
        {
          "output_type": "stream",
          "name": "stdout",
          "text": [
            "enter number:0\n",
            "number is Zero\n"
          ]
        }
      ]
    },
    {
      "cell_type": "markdown",
      "source": [
        "Que.12   Write a for loop to print numbers from 1 to 10."
      ],
      "metadata": {
        "id": "DMxHmWnMSLvN"
      }
    },
    {
      "cell_type": "code",
      "source": [
        "for i in range(1,10):\n",
        "  print(i,end=' ')"
      ],
      "metadata": {
        "colab": {
          "base_uri": "https://localhost:8080/"
        },
        "id": "yoZe-o6kSSx5",
        "outputId": "78445757-9e87-4ab5-e14b-6956e46a8f8e"
      },
      "execution_count": null,
      "outputs": [
        {
          "output_type": "stream",
          "name": "stdout",
          "text": [
            "1 2 3 4 5 6 7 8 9 "
          ]
        }
      ]
    },
    {
      "cell_type": "markdown",
      "source": [
        "Que.13 Write a Python program to find the sum of all even numbers between 1 and 50."
      ],
      "metadata": {
        "id": "B_ypu0LsTw7N"
      }
    },
    {
      "cell_type": "code",
      "source": [
        "i=2\n",
        "while i<=50:\n",
        "  print(i)\n",
        "  i=i+2"
      ],
      "metadata": {
        "colab": {
          "base_uri": "https://localhost:8080/"
        },
        "id": "Dbo8gM9wUCQj",
        "outputId": "00f719ff-4c92-407c-ea6a-ad3877786660"
      },
      "execution_count": null,
      "outputs": [
        {
          "output_type": "stream",
          "name": "stdout",
          "text": [
            "2\n",
            "4\n",
            "6\n",
            "8\n",
            "10\n",
            "12\n",
            "14\n",
            "16\n",
            "18\n",
            "20\n",
            "22\n",
            "24\n",
            "26\n",
            "28\n",
            "30\n",
            "32\n",
            "34\n",
            "36\n",
            "38\n",
            "40\n",
            "42\n",
            "44\n",
            "46\n",
            "48\n",
            "50\n"
          ]
        }
      ]
    },
    {
      "cell_type": "markdown",
      "source": [],
      "metadata": {
        "id": "rRLNuzDBQU1M"
      }
    },
    {
      "cell_type": "markdown",
      "source": [
        "Que.14 Write a program to reverse a string using a while loop."
      ],
      "metadata": {
        "id": "soMeKYgtWnIf"
      }
    },
    {
      "cell_type": "code",
      "source": [
        "str=\"python\"\n",
        "print(str[::-1])"
      ],
      "metadata": {
        "colab": {
          "base_uri": "https://localhost:8080/"
        },
        "id": "94UmIf1zWzCF",
        "outputId": "d6d78f85-6ef7-45f4-b773-35c628e748a0"
      },
      "execution_count": null,
      "outputs": [
        {
          "output_type": "stream",
          "name": "stdout",
          "text": [
            "nohtyp\n"
          ]
        }
      ]
    },
    {
      "cell_type": "markdown",
      "source": [],
      "metadata": {
        "id": "z9i65anxe2Wh"
      }
    },
    {
      "cell_type": "markdown",
      "source": [
        "Que.15 write a Python program to calculate the factorial of a number provided by the user using a while loop."
      ],
      "metadata": {
        "id": "sjtkd5mqYkTi"
      }
    },
    {
      "cell_type": "code",
      "source": [
        "num=int(input(\"Enter a number\"))\n",
        "fact=1\n",
        "while(num>0):\n",
        "  fact=fact*num\n",
        "  num=num-1\n",
        "print(\"factorial number is:\",fact)"
      ],
      "metadata": {
        "colab": {
          "base_uri": "https://localhost:8080/"
        },
        "id": "-lMCbMhsYqUE",
        "outputId": "b00311ed-70c5-44ae-ce95-8de75cecda39"
      },
      "execution_count": null,
      "outputs": [
        {
          "output_type": "stream",
          "name": "stdout",
          "text": [
            "Enter a number4\n",
            "factorial number is: 24\n"
          ]
        }
      ]
    },
    {
      "cell_type": "markdown",
      "source": [],
      "metadata": {
        "id": "7xI4kqgi49of"
      }
    },
    {
      "cell_type": "markdown",
      "source": [],
      "metadata": {
        "id": "5YBp6CGlC9g5"
      }
    },
    {
      "cell_type": "code",
      "source": [],
      "metadata": {
        "id": "us0ae1bRcpXn"
      },
      "execution_count": null,
      "outputs": []
    },
    {
      "cell_type": "code",
      "source": [],
      "metadata": {
        "id": "fdD1sYRiZlvL"
      },
      "execution_count": null,
      "outputs": []
    },
    {
      "cell_type": "code",
      "source": [],
      "metadata": {
        "id": "nMfM2S5GX4ny"
      },
      "execution_count": null,
      "outputs": []
    },
    {
      "cell_type": "code",
      "source": [],
      "metadata": {
        "id": "3tZtJTMNZb7-"
      },
      "execution_count": null,
      "outputs": []
    },
    {
      "cell_type": "code",
      "source": [],
      "metadata": {
        "id": "jJmXu72BZWXy"
      },
      "execution_count": null,
      "outputs": []
    },
    {
      "cell_type": "code",
      "source": [],
      "metadata": {
        "id": "PgVoFRZpZVmz"
      },
      "execution_count": null,
      "outputs": []
    }
  ]
}